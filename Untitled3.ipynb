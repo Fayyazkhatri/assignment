{
 "cells": [
  {
   "cell_type": "code",
   "execution_count": 3,
   "id": "c56a9e51",
   "metadata": {},
   "outputs": [
    {
     "name": "stdout",
     "output_type": "stream",
     "text": [
      "\u001b[1mFayyaz Ahmed\u001b[0m\n",
      "fayyazkhatri3@gmail.com\n",
      "0313-2971292\n"
     ]
    }
   ],
   "source": [
    "\n",
    "print(\"\\033[1mFayyaz Ahmed\\033[0m\\nfayyazkhatri3@gmail.com\\n0313-2971292\")"
   ]
  },
  {
   "cell_type": "code",
   "execution_count": 10,
   "id": "d0ad979a",
   "metadata": {},
   "outputs": [
    {
     "name": "stdout",
     "output_type": "stream",
     "text": [
      "\n",
      "\tTwinkle, twinkle, little star, \n",
      "\t\tHow I wonder what you are! \n",
      "\t\t\tUp above the world so high, \n",
      "\t\t\tLike a diamond in the sky. \n",
      "\tTwinkle, twinkle, little star, \n",
      "\t\tHow I wonder what you are!\n"
     ]
    }
   ],
   "source": [
    "#QUESTION NO. 1\n",
    "print(\"\\n\\tTwinkle, twinkle, little star, \\n\\t\\tHow I wonder what you are! \\n\\t\\t\\tUp above the world so high, \\n\\t\\t\\tLike a diamond in the sky. \\n\\tTwinkle, twinkle, little star, \\n\\t\\tHow I wonder what you are!\")"
   ]
  },
  {
   "cell_type": "code",
   "execution_count": 11,
   "id": "cae2d35b",
   "metadata": {},
   "outputs": [
    {
     "name": "stdout",
     "output_type": "stream",
     "text": [
      "3.8.8 (default, Apr 13 2021, 15:08:03) [MSC v.1916 64 bit (AMD64)]\n"
     ]
    }
   ],
   "source": [
    "#QUESTION NO. 2\n",
    "import sys\n",
    "print (sys.version)"
   ]
  },
  {
   "cell_type": "code",
   "execution_count": 12,
   "id": "87497f14",
   "metadata": {},
   "outputs": [
    {
     "name": "stdout",
     "output_type": "stream",
     "text": [
      "2021-12-31 11:21:20.137484\n"
     ]
    }
   ],
   "source": [
    "#QUESTION NO. 3\n",
    "import datetime\n",
    "now = datetime.datetime.now()\n",
    "print (now);"
   ]
  },
  {
   "cell_type": "code",
   "execution_count": 13,
   "id": "9d8bd2e5",
   "metadata": {},
   "outputs": [
    {
     "name": "stdout",
     "output_type": "stream",
     "text": [
      "Input the radius of the circle : 5\n",
      "The area of the circle with radius 5.0 is: 78.53981633974483\n"
     ]
    }
   ],
   "source": [
    "#QUESTION NO. 4\n",
    "from math import pi\n",
    "r = float(input (\"Input the radius of the circle : \"))\n",
    "print (\"The area of the circle with radius \" + str(r) + \" is: \" + str(pi * r**2))\n"
   ]
  },
  {
   "cell_type": "code",
   "execution_count": 2,
   "id": "afd998b1",
   "metadata": {},
   "outputs": [
    {
     "name": "stdout",
     "output_type": "stream",
     "text": [
      "Please write your First Namefayyaz\n",
      "Please write your Last Nameahmed\n",
      "ahmed   fayyaz\n"
     ]
    }
   ],
   "source": [
    "#QUESTION NO. 5\n",
    "firstName = input(\"Please write your First Name\")\n",
    "lastName = input(\"Please write your Last Name\")\n",
    "print (lastName , \" \" , firstName)\n"
   ]
  },
  {
   "cell_type": "code",
   "execution_count": null,
   "id": "71d2c0c9",
   "metadata": {},
   "outputs": [],
   "source": [
    "#QUESTION NO. 5\n",
    "a = int(input())\n",
    "b = int(input())\n",
    "\n",
    "total = a+b\n",
    "\n",
    "print (\"sum of both input numbers is :\" ,total)"
   ]
  }
 ],
 "metadata": {
  "kernelspec": {
   "display_name": "Python 3",
   "language": "python",
   "name": "python3"
  },
  "language_info": {
   "codemirror_mode": {
    "name": "ipython",
    "version": 3
   },
   "file_extension": ".py",
   "mimetype": "text/x-python",
   "name": "python",
   "nbconvert_exporter": "python",
   "pygments_lexer": "ipython3",
   "version": "3.8.8"
  }
 },
 "nbformat": 4,
 "nbformat_minor": 5
}
